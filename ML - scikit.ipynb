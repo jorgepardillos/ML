{
 "cells": [
  {
   "cell_type": "code",
   "execution_count": 1,
   "metadata": {
    "collapsed": true
   },
   "outputs": [],
   "source": [
    "import pandas as pd\n",
    "import numpy as np\n",
    "import matplotlib.pyplot as plt\n",
    "from sklearn.model_selection import train_test_split\n",
    "from sklearn.ensemble import RandomForestClassifier\n",
    "from sklearn.tree import DecisionTreeClassifier\n",
    "from sklearn.neural_network import MLPClassifier\n",
    "from sklearn.metrics import accuracy_score, precision_score, recall_score, confusion_matrix\n",
    "from sklearn import svm"
   ]
  },
  {
   "cell_type": "code",
   "execution_count": 25,
   "metadata": {
    "collapsed": true
   },
   "outputs": [],
   "source": [
    "def Show_data(df):\n",
    "    y = [len(df[df[1]=='B'])/len(df), len(df[df[1]=='M'])/len(df)]\n",
    "    x = ['B', 'M']\n",
    "    print(x[0], len(df[df[1]=='B']), x[1], len(df[df[1]=='M']))\n",
    "    plt.bar(x, y)\n",
    "    plt.ylabel('% of data')\n",
    "    plt.xlabel('Answer')\n",
    "    plt.show()\n",
    "\n",
    "def Numeric(df):\n",
    "    L = []\n",
    "    cheat = {'B':0, 'M':1}\n",
    "    for element in df[1]:\n",
    "        L.append(cheat[element])\n",
    "    df[1] = L\n",
    "    return np.matrix(df)\n",
    "\n",
    "def Importance(clf):\n",
    "    a = clf.feature_importances_\n",
    "    plt.xticks(rotation='vertical')\n",
    "    keys = [i for i in range(30)]\n",
    "    plt.bar(keys, clf.feature_importances_)\n",
    "    plt.ylabel('Importance')\n",
    "    plt.xlabel('Feature')\n",
    "    plt.show()\n",
    "    \n",
    "def Split(data):\n",
    "    x = data[:,1:]\n",
    "    y = data[:,0]\n",
    "    x_train, x_aux, y_train, y_aux = train_test_split(x,y,test_size=0.3)\n",
    "    x_val, x_test, y_val, y_test = train_test_split(x_aux,y_aux,test_size=0.5)\n",
    "    return x_train, y_train, x_test, y_test, x_val, y_val\n",
    "\n",
    "def RF(x_train, y_train, x_test, y_test):\n",
    "    clf = RandomForestClassifier(n_estimators=100, max_depth=None, min_samples_split=2, random_state=0)\n",
    "    clf.fit(x_train, np.ravel(y_train))\n",
    "    predictions = clf.predict(x_test)\n",
    "    print('Accuracy on the training set:', accuracy_score(y_train, y_train))\n",
    "    print('Accuracy on the test set:', accuracy_score(y_test, predictions))\n",
    "    print('Precision on the test set:', precision_score(y_test, predictions))\n",
    "    print('Recall on the test set:', recall_score(y_test, predictions))\n",
    "    return clf\n",
    "def Trees(x_train, y_train, x_test, y_test):\n",
    "    clf = DecisionTreeClassifier()\n",
    "    clf.fit(x_train, np.ravel(y_train))\n",
    "    predictions = clf.predict(x_test)\n",
    "    print('Accuracy on the training set:', accuracy_score(y_train, y_train))\n",
    "    print('Accuracy on the test set:', accuracy_score(y_test, predictions))\n",
    "    print('Precision on the test set:', precision_score(y_test, predictions))\n",
    "    print('Recall on the test set:', recall_score(y_test, predictions))\n",
    "    return clf\n",
    "def NN(x_train, y_train, x_test, y_test):\n",
    "    clf = MLPClassifier(solver='lbfgs', alpha=1e-5,hidden_layer_sizes=(5, 2), random_state=1)\n",
    "    clf.fit(x_train, np.ravel(y_train))\n",
    "    predictions = clf.predict(x_test)\n",
    "    print('Accuracy on the training set:', accuracy_score(y_train, y_train))\n",
    "    print('Accuracy on the test set:', accuracy_score(y_test, predictions))\n",
    "    print('Precision on the test set:', precision_score(y_test, predictions))\n",
    "    print('Recall on the test set:', recall_score(y_test, predictions))\n",
    "    return clf\n",
    "def SVM(x_train, y_train, x_test, y_test):\n",
    "    clf = svm.SVC(kernel='rbf', gamma=0.0001, C=100)\n",
    "    clf.fit(x_train, np.ravel(y_train))\n",
    "    predictions = clf.predict(x_test)\n",
    "    print('Accuracy on the training set:', accuracy_score(y_train, y_train))\n",
    "    print('Accuracy on the test set:', accuracy_score(y_test, predictions))\n",
    "    print('Precision on the test set:', precision_score(y_test, predictions))\n",
    "    print('Recall on the test set:', recall_score(y_test, predictions))\n",
    "    return clf"
   ]
  },
  {
   "cell_type": "code",
   "execution_count": 29,
   "metadata": {
    "scrolled": false
   },
   "outputs": [
    {
     "name": "stdout",
     "output_type": "stream",
     "text": [
      "B 357 M 212\n"
     ]
    },
    {
     "data": {
      "image/png": "[encoded data removed]",
      "text/plain": [
       "<matplotlib.figure.Figure at 0x1a1839d940>"
      ]
     },
     "metadata": {},
     "output_type": "display_data"
    },
    {
     "name": "stdout",
     "output_type": "stream",
     "text": [
      "\n",
      "Results for random forest:\n",
      "Accuracy on the training set: 1.0\n",
      "Accuracy on the test set: 0.988372093023\n",
      "Precision on the test set: 1.0\n",
      "Recall on the test set: 0.970588235294\n",
      "\n",
      "Results for trees:\n",
      "Accuracy on the training set: 1.0\n",
      "Accuracy on the test set: 0.906976744186\n",
      "Precision on the test set: 0.861111111111\n",
      "Recall on the test set: 0.911764705882\n",
      "\n",
      "Results for neural networks:\n",
      "Accuracy on the training set: 1.0\n",
      "Accuracy on the test set: 0.96511627907\n",
      "Precision on the test set: 0.969696969697\n",
      "Recall on the test set: 0.941176470588\n",
      "\n",
      "Results for SVM:\n",
      "Accuracy on the training set: 1.0\n",
      "Accuracy on the test set: 0.918604651163\n",
      "Precision on the test set: 0.864864864865\n",
      "Recall on the test set: 0.941176470588\n"
     ]
    }
   ],
   "source": [
    "df = pd.read_csv('Breast.csv', delimiter=',', header=None)\n",
    "df = df.drop([0], axis=1)\n",
    "\n",
    "Show_data(df)\n",
    "data = Numeric(df)\n",
    "x_train, y_train, x_test, y_test, x_val, y_val = Split(data)\n",
    "print('\\nResults for random forest:')\n",
    "model_rf = RF(x_train, y_train, x_test, y_test)\n",
    "print('\\nResults for trees:')\n",
    "model_tree = Trees(x_train, y_train, x_test, y_test)\n",
    "print('\\nResults for neural networks:')\n",
    "model_nn = NN(x_train, y_train, x_test, y_test)\n",
    "print('\\nResults for SVM:')\n",
    "model_nn = SVM(x_train, y_train, x_test, y_test)"
   ]
  },
  {
   "cell_type": "code",
   "execution_count": 13,
   "metadata": {},
   "outputs": [
    {
     "name": "stdout",
     "output_type": "stream",
     "text": [
      "Accuracy on the test set: 0.952941176471\n"
     ]
    },
    {
     "data": {
      "image/png": "[encoded data removed]",
      "text/plain": [
       "<matplotlib.figure.Figure at 0x1a204bb0f0>"
      ]
     },
     "metadata": {},
     "output_type": "display_data"
    }
   ],
   "source": [
    "predictions = model_rf.predict(x_val)\n",
    "print('Accuracy on the test set:', accuracy_score(y_val, predictions))\n",
    "Importance(model_rf)"
   ]
  }
 ],
 "metadata": {
  "kernelspec": {
   "display_name": "Python 3",
   "language": "python",
   "name": "python3"
  },
  "language_info": {
   "codemirror_mode": {
    "name": "ipython",
    "version": 3
   },
   "file_extension": ".py",
   "mimetype": "text/x-python",
   "name": "python",
   "nbconvert_exporter": "python",
   "pygments_lexer": "ipython3",
   "version": "3.6.3"
  }
 },
 "nbformat": 4,
 "nbformat_minor": 2
}
